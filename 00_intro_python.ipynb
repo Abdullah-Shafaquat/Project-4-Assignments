{
  "nbformat": 4,
  "nbformat_minor": 0,
  "metadata": {
    "colab": {
      "provenance": [],
      "authorship_tag": "ABX9TyMDW79zErpO+nvvVboMeULD",
      "include_colab_link": true
    },
    "kernelspec": {
      "name": "python3",
      "display_name": "Python 3"
    },
    "language_info": {
      "name": "python"
    }
  },
  "cells": [
    {
      "cell_type": "markdown",
      "metadata": {
        "id": "view-in-github",
        "colab_type": "text"
      },
      "source": [
        "<a href=\"https://colab.research.google.com/github/Abdullah-Shafaquat/Project-4-Assignments/blob/main/00_intro_python.ipynb\" target=\"_parent\"><img src=\"https://colab.research.google.com/assets/colab-badge.svg\" alt=\"Open In Colab\"/></a>"
      ]
    },
    {
      "cell_type": "code",
      "execution_count": null,
      "metadata": {
        "colab": {
          "base_uri": "https://localhost:8080/"
        },
        "id": "PVozhZbllhLp",
        "outputId": "36a6dddf-123f-4050-e812-ebed0e884e71"
      },
      "outputs": [
        {
          "output_type": "stream",
          "name": "stdout",
          "text": [
            "01_add_two_numbers\n",
            "\n",
            "This application for sum between two numbers\n",
            "\n",
            "\tEnter a first number : 89\n",
            "\tEnter a second number : 78\n",
            "\n",
            "The total sum of 89 and 78 = 167 \n"
          ]
        }
      ],
      "source": [
        "print(\"01_add_two_numbers\")\n",
        "\n",
        "def add_two_numbers():\n",
        "  print(\"\\nThis application for sum between two numbers\")\n",
        "  first_number = int(input(\"\\n\\tEnter a first number : \"))\n",
        "  second_number = int(input(\"\\tEnter a second number : \"))\n",
        "  total = int(first_number + second_number)\n",
        "  print(f\"\\nThe total sum of {first_number} and {second_number} = {total} \" )\n",
        "\n",
        "if __name__ == '__main__':\n",
        "  add_two_numbers()"
      ]
    },
    {
      "cell_type": "code",
      "source": [
        "print(\"02_agreement_bot\")\n",
        "\n",
        "def agreement_bot():\n",
        "  animal_name = str(input(\"\\n\\tWhat's your favorite animal ? \"))\n",
        "  print(f\"\\nMy favorite animal is also {animal_name} !\")\n",
        "\n",
        "if __name__ == '__main__':\n",
        "  agreement_bot()\n"
      ],
      "metadata": {
        "colab": {
          "base_uri": "https://localhost:8080/"
        },
        "id": "vGM2IHiQtFF4",
        "outputId": "7545f0f0-c4ef-4173-8f83-0a96946c18c8"
      },
      "execution_count": null,
      "outputs": [
        {
          "output_type": "stream",
          "name": "stdout",
          "text": [
            "02_agreement_bot\n",
            "\n",
            "\tWhat's your favorite animal ? 78\n",
            "\n",
            "My favorite animal is also 78 !\n"
          ]
        }
      ]
    },
    {
      "cell_type": "code",
      "source": [
        "print(\"03_fahrenheit_to_celsius\")\n",
        "\n",
        "def fahrenheit_to_celsius():\n",
        "  temperature = int(input(\"\\n\\tEnter a fahrenheit temperature  \"))\n",
        "  convert_to_celsius = (temperature - 32 ) * 5.0 / 9.0\n",
        "  print(f\"\\nTemperature: {temperature} fahrenheit temperature = {convert_to_celsius} celsius temperature \")\n",
        "\n",
        "if __name__ == '__main__':\n",
        "  fahrenheit_to_celsius()\n"
      ],
      "metadata": {
        "colab": {
          "base_uri": "https://localhost:8080/"
        },
        "id": "7f6s2SFvvuUa",
        "outputId": "1d661276-6335-4f20-8f10-007dc8817b9e"
      },
      "execution_count": null,
      "outputs": [
        {
          "output_type": "stream",
          "name": "stdout",
          "text": [
            "03_fahrenheit_to_celsius\n",
            "\n",
            "\tEnter a fahrenheit temperature  76\n",
            "\n",
            "Temperature: 76 fahrenheit temperature = 24.444444444444443 celsius temperature \n"
          ]
        }
      ]
    },
    {
      "cell_type": "code",
      "source": [
        "print(\"04_how_old_are_they\")\n",
        "\n",
        "def how_old_are_they():\n",
        "  anton : int = 21\n",
        "  beth : int = anton + 6\n",
        "  chen : int = beth + 20\n",
        "  drew  : int= chen + anton\n",
        "  ethan : int = chen\n",
        "  print(\"\\nAnton is \" + str(anton))\n",
        "  print(\"Beth is \" + str(beth))\n",
        "  print(\"Chen is \" + str(chen))\n",
        "  print(\"Drew is \" + str(drew))\n",
        "  print(\"Ethan is \" + str(ethan))\n",
        "\n",
        "if __name__ == '__main__':\n",
        "    how_old_are_they()\n",
        "\n",
        ""
      ],
      "metadata": {
        "id": "RgbPN3Ij-BmM",
        "colab": {
          "base_uri": "https://localhost:8080/"
        },
        "outputId": "4a52c441-5fc7-4b34-c98f-09e2f4e573e5"
      },
      "execution_count": 7,
      "outputs": [
        {
          "output_type": "stream",
          "name": "stdout",
          "text": [
            "04_how_old_are_they\n",
            "\n",
            "Anton is 21\n",
            "Beth is 27\n",
            "Chen is 47\n",
            "Drew is 68\n",
            "Ethan is 47\n"
          ]
        }
      ]
    },
    {
      "cell_type": "code",
      "source": [
        "print(\"05_triangle_perimeter\")\n",
        "\n",
        "def triangle_perimeter():\n",
        "    side1: float = float(input(\"\\n\\tWhat is the length of side 1 ? \"))\n",
        "    side2: float = float(input(\"\\tWhat is the length of side 2 ? \"))\n",
        "    side3: float = float(input(\"\\tWhat is the length of side 3 ? \"))\n",
        "    print(\"\\nThe perimeter of the triangle is \" + str(side1 + side2 + side3))\n",
        "\n",
        "if __name__ == '__main__':\n",
        "  triangle_perimeter()"
      ],
      "metadata": {
        "colab": {
          "base_uri": "https://localhost:8080/"
        },
        "id": "OqtvEPP5sQZm",
        "outputId": "fa3bd9ad-43dc-4c81-e97a-e9d8de3c9342"
      },
      "execution_count": 11,
      "outputs": [
        {
          "output_type": "stream",
          "name": "stdout",
          "text": [
            "05_triangle_perimeter\n",
            "\n",
            "\tWhat is the length of side 1 ? 5\n",
            "\tWhat is the length of side 2 ? 5\n",
            "\tWhat is the length of side 3 ? 5\n",
            "\n",
            "The perimeter of the triangle is 15.0\n"
          ]
        }
      ]
    },
    {
      "cell_type": "code",
      "source": [
        "\n",
        "print(\"06_square_number\")\n",
        "def square_number():\n",
        "    num: float = float(input(\"\\n\\tType a number to see its square : \"))\n",
        "    print(\"\\n\" + str(num) + \" squared is \" + str(num ** 2))\n",
        "\n",
        "if __name__ == '__main__':\n",
        "\n",
        "   square_number()\n"
      ],
      "metadata": {
        "colab": {
          "base_uri": "https://localhost:8080/"
        },
        "id": "hoQC8jTDtg2P",
        "outputId": "405a5b4f-d8ef-43f8-a2e8-a3f19cdec3c0"
      },
      "execution_count": 18,
      "outputs": [
        {
          "output_type": "stream",
          "name": "stdout",
          "text": [
            "06_square_number\n",
            "\n",
            "\tType a number to see its square : 8\n",
            "\n",
            "8.0 squared is 64.0\n"
          ]
        }
      ]
    }
  ]
}